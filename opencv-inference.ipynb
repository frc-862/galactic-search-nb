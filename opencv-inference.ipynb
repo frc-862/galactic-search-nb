{
 "cells": [
  {
   "cell_type": "code",
   "execution_count": null,
   "metadata": {},
   "outputs": [],
   "source": [
    "import cv2"
   ]
  },
  {
   "cell_type": "code",
   "execution_count": null,
   "metadata": {},
   "outputs": [],
   "source": [
    "tfnet = cv2.dnn.readNetFromTensorflow('path-classifier.pb')"
   ]
  },
  {
   "cell_type": "code",
   "execution_count": null,
   "metadata": {},
   "outputs": [],
   "source": [
    "ab = cv2.imread('input/A-BLUE/A-BLUE-0.jpg')\n",
    "ar = cv2.imread('input/A-RED/A-RED-0.jpg')\n",
    "bb = cv2.imread('input/B-BLUE/B-BLUE-0.jpg')\n",
    "br = cv2.imread('input/B-RED/B-RED-0.jpg')"
   ]
  },
  {
   "cell_type": "code",
   "execution_count": null,
   "metadata": {},
   "outputs": [],
   "source": [
    "print('A-BLUE image Shape: {}'.format(ab.shape))\n",
    "print('A-RED image Shape: {}' .format(ar.shape))\n",
    "print('B-BLUE image Shape: {}'.format(bb.shape))\n",
    "print('B-RED image Shape: {}' .format(br.shape))"
   ]
  },
  {
   "cell_type": "code",
   "execution_count": null,
   "metadata": {},
   "outputs": [],
   "source": [
    "def inference(img):\n",
    "    \n",
    "    # Get Convert the Image Mat to Blob for Inference\n",
    "    blob = cv2.dnn.blobFromImage(img)\n",
    "    \n",
    "    # Set Input to Network\n",
    "    tfnet.setInput(blob)\n",
    "    \n",
    "    # Forward Propagation\n",
    "    out = tfnet.forward()\n",
    "    \n",
    "    # Return One-Hot Encoded Result\n",
    "    return out"
   ]
  },
  {
   "cell_type": "code",
   "execution_count": null,
   "metadata": {},
   "outputs": [],
   "source": [
    "def get_str(inference_out):\n",
    "    \n",
    "    # List of Labels\n",
    "    labels = ['A-BLUE', 'A-RED', 'B-BLUE', 'B-RED']\n",
    "    \n",
    "    # Convert Inference Output to List of Ints (e.g. [1, 0, 0, 0] for \"A-BLUE\")\n",
    "    int_res_one_hot = [int(round(r)) for r in inference_out[0]]\n",
    "    \n",
    "    # Find Index of \"1\"\n",
    "    res_idx = int_res_one_hot.index(1)\n",
    "    \n",
    "    # Find Label of Corresponding Index\n",
    "    res_ = labels[res_idx]\n",
    "    \n",
    "    # Return Label\n",
    "    return res_"
   ]
  },
  {
   "cell_type": "code",
   "execution_count": null,
   "metadata": {},
   "outputs": [],
   "source": [
    "print('A-BLUE image was run through model, model guessed {}'.format(get_str(inference(ab))))\n",
    "print('A-RED image was run through model, model guessed {}'.format(get_str(inference(ar))))\n",
    "print('B-BLUE image was run through model, model guessed {}'.format(get_str(inference(bb))))\n",
    "print('B-RED image was run through model, model guessed {}'.format(get_str(inference(br))))"
   ]
  }
 ],
 "metadata": {
  "kernelspec": {
   "display_name": "Python 3",
   "language": "python",
   "name": "python3"
  },
  "language_info": {
   "codemirror_mode": {
    "name": "ipython",
    "version": 3
   },
   "file_extension": ".py",
   "mimetype": "text/x-python",
   "name": "python",
   "nbconvert_exporter": "python",
   "pygments_lexer": "ipython3",
   "version": "3.6.9"
  }
 },
 "nbformat": 4,
 "nbformat_minor": 4
}
