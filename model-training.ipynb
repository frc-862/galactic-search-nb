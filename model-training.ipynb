{
 "cells": [
  {
   "cell_type": "code",
   "execution_count": null,
   "metadata": {},
   "outputs": [],
   "source": [
    "import os\n",
    "import tensorflow as tf\n",
    "from tensorflow import keras\n",
    "from tensorflow.keras.preprocessing.image import ImageDataGenerator\n",
    "import numpy as np\n",
    "import cv2\n",
    "import random\n",
    "import matplotlib.pyplot as plt"
   ]
  },
  {
   "cell_type": "code",
   "execution_count": null,
   "metadata": {},
   "outputs": [],
   "source": [
    "print(tf.version.VERSION)"
   ]
  },
  {
   "cell_type": "markdown",
   "metadata": {},
   "source": [
    "# Set-Up Dataset"
   ]
  },
  {
   "cell_type": "code",
   "execution_count": null,
   "metadata": {},
   "outputs": [],
   "source": [
    "labels = ['A-BLUE', 'A-RED', 'B-BLUE', 'B-RED']\n",
    "img_cols = 640\n",
    "img_rows = 360\n",
    "row_shape = 0\n",
    "col_shape = 1\n",
    "\n",
    "def read_img(path, img, class_num, data):\n",
    "    try:\n",
    "        img_arr = cv2.imread(os.path.join(path, img)) # read image with opencv\n",
    "        if img_arr.shape[row_shape] == img_rows and img_arr.shape[col_shape] == img_cols:\n",
    "            data.append([img_arr, class_num]) # add to final data list\n",
    "        else:\n",
    "            print('File at', os.path.join(path,img), 'does not have proper size')\n",
    "            print('Expected ({}x{}}) but got ({}x{})'.format(img_rows,img_cols,img_arr.rows,img_arr.cols))\n",
    "    except Exception as e:\n",
    "        print(e)\n",
    "\n",
    "def read_data(data_dir, train_set_size_per_cat, val_set_size_per_cat):\n",
    "    train_data = []\n",
    "    val_data = []\n",
    "    \n",
    "    for label in labels:\n",
    "        path = os.path.join(data_dir, label)\n",
    "        class_num = labels.index(label)\n",
    "        \n",
    "        images = os.listdir(path) # list of images in directory\n",
    "        training_images = random.sample(images, train_set_size_per_cat) # select random images for training\n",
    "        images = [image for image in images if image not in training_images] # remove selected images\n",
    "        validation_images = random.sample(images, val_set_size_per_cat) # select random validation images\n",
    "        \n",
    "        # read the training images\n",
    "        for img in training_images:\n",
    "            read_img(path, img, class_num, train_data)\n",
    "                \n",
    "        # read the validation images\n",
    "        for img in validation_images:\n",
    "            read_img(path, img, class_num, val_data)\n",
    "    \n",
    "    return np.array(train_data), np.array(val_data)"
   ]
  },
  {
   "cell_type": "code",
   "execution_count": null,
   "metadata": {},
   "outputs": [],
   "source": [
    "train, val = read_data('input', 100, 40)\n",
    "\n",
    "x_train = []\n",
    "y_train = []\n",
    "x_val = []\n",
    "y_val = []\n",
    "\n",
    "for feature, label in train:\n",
    "    x_train.append(feature)\n",
    "    y_train.append(label)\n",
    "\n",
    "for feature, label in val:\n",
    "    x_val.append(feature)\n",
    "    y_val.append(label)\n",
    "\n",
    "# normalize\n",
    "x_train = np.array(x_train) / 255\n",
    "x_val = np.array(x_val) / 255\n",
    "\n",
    "y_train = np.array(y_train)\n",
    "y_val = np.array(y_val)\n",
    "\n",
    "y_train = keras.utils.to_categorical(y_train)\n",
    "y_val = keras.utils.to_categorical(y_val)"
   ]
  },
  {
   "cell_type": "code",
   "execution_count": null,
   "metadata": {},
   "outputs": [],
   "source": [
    "datagen = ImageDataGenerator(\n",
    "        featurewise_center             =False,  # set input mean to 0 over the dataset\n",
    "        samplewise_center              =False,  # set each sample mean to 0\n",
    "        featurewise_std_normalization  =False,  # divide inputs by std of the dataset\n",
    "        samplewise_std_normalization   =False,  # divide each input by its std\n",
    "        zca_whitening                  =False,  # apply ZCA whitening\n",
    "        rotation_range                 =3,      # randomly rotate images in the range (degrees, 0 to 180)\n",
    "        zoom_range                     =0.1,    # Randomly zoom image \n",
    "        width_shift_range              =0.1,    # randomly shift images horizontally (fraction of total width)\n",
    "        height_shift_range             =0.1,    # randomly shift images vertically (fraction of total height)\n",
    "        horizontal_flip                =False,  # randomly flip images\n",
    "        vertical_flip                  =False)  # randomly flip images\n",
    "\n",
    "datagen.fit(x_train)"
   ]
  },
  {
   "cell_type": "markdown",
   "metadata": {},
   "source": [
    "# Create and Train Model"
   ]
  },
  {
   "cell_type": "code",
   "execution_count": null,
   "metadata": {},
   "outputs": [],
   "source": [
    "def create_model(rows, cols):\n",
    "    model = tf.keras.models.Sequential([\n",
    "        keras.layers.Conv2D(32, 3, padding=\"same\", activation=\"relu\", input_shape=(rows,cols,3)),\n",
    "        keras.layers.MaxPool2D(),\n",
    "        keras.layers.Conv2D(32, 3, padding=\"same\", activation=\"relu\"),\n",
    "        keras.layers.MaxPool2D(),\n",
    "        keras.layers.Conv2D(64, 3, padding=\"same\", activation=\"relu\"),\n",
    "        keras.layers.MaxPool2D(),\n",
    "        keras.layers.Dropout(0.2),\n",
    "        keras.layers.Flatten(),\n",
    "        keras.layers.Dense(112, activation=\"relu\"),\n",
    "        keras.layers.Dense(56, activation=\"relu\"),\n",
    "        keras.layers.Dense(56, activation=\"relu\"),\n",
    "        keras.layers.Dense(4, activation=\"softmax\"),\n",
    "    ])\n",
    "    opt = keras.optimizers.Adam(lr=0.001)\n",
    "    model.compile(optimizer=opt, loss='categorical_crossentropy', metrics=['accuracy'])\n",
    "    return model"
   ]
  },
  {
   "cell_type": "code",
   "execution_count": null,
   "metadata": {},
   "outputs": [],
   "source": [
    "model = create_model(img_rows, img_cols)\n",
    "history = model.fit(x_train, y_train, epochs=25, validation_data=(x_val, y_val), shuffle=True, verbose=2)"
   ]
  },
  {
   "cell_type": "code",
   "execution_count": null,
   "metadata": {},
   "outputs": [],
   "source": [
    "loss, acc = model.evaluate(x_val, y_val, verbose=2)"
   ]
  },
  {
   "cell_type": "markdown",
   "metadata": {},
   "source": [
    "# Inference Function"
   ]
  },
  {
   "cell_type": "code",
   "execution_count": null,
   "metadata": {},
   "outputs": [],
   "source": [
    "def inference(model, img, expected):\n",
    "    res = model.predict(img)\n",
    "    real = expected\n",
    "    \n",
    "    int_res_one_hot = [int(round(r)) for r in res[0]]\n",
    "    int_real_one_hot = [int(round(r)) for r in real]\n",
    "    #print('Encoded Result: {} | Encoded Expected: {}'.format(int_res_one_hot, int_real_one_hot))\n",
    "    \n",
    "    res_idx = -1\n",
    "    real_idx = -1\n",
    "    res_ = 'NONE'\n",
    "    real_ = 'NONE'\n",
    "    \n",
    "    try:\n",
    "        \n",
    "        res_idx = int_res_one_hot.index(1)\n",
    "        real_idx = int_real_one_hot.index(1)\n",
    "        #print('Result Index: {} | Expected Index: {}'.format(res_idx, real_idx))\n",
    "        \n",
    "        res_ = labels[res_idx]\n",
    "        real_ = labels[real_idx]\n",
    "        #print('Result Index: {} | Expected Index: {}'.format(res_, real_))\n",
    "        \n",
    "    except:\n",
    "        print('NONE')    \n",
    "    \n",
    "    prediction = res_\n",
    "    expected = real_\n",
    "    correct = (prediction == expected)\n",
    "    \n",
    "    return prediction, expected, correct"
   ]
  },
  {
   "cell_type": "markdown",
   "metadata": {},
   "source": [
    "# Run Inference On A Few Random Images"
   ]
  },
  {
   "cell_type": "code",
   "execution_count": null,
   "metadata": {},
   "outputs": [],
   "source": [
    "data, _ = read_data('input', 1, 0) # read one image from each category\n",
    "\n",
    "x = []\n",
    "y = []\n",
    "\n",
    "for feature, label in data:\n",
    "    x.append(feature)\n",
    "    y.append(label)\n",
    "    \n",
    "x = np.array(x) / 255\n",
    "y = keras.utils.to_categorical(np.array(y))\n",
    "    \n",
    "for img, real in zip(x, y):\n",
    "    img.resize(1, img_rows, img_cols, 3)\n",
    "    prediction, expected, correct = inference(model, img, real)\n",
    "    print('Result Index: {} | Expected Index: {}'.format(prediction, expected))"
   ]
  },
  {
   "cell_type": "markdown",
   "metadata": {},
   "source": [
    "# Find Misclassified Samples\n",
    "If no images are printed, there are no misclassified samples and that is good. "
   ]
  },
  {
   "cell_type": "code",
   "execution_count": null,
   "metadata": {},
   "outputs": [],
   "source": [
    "data, _ = read_data('input', 500, 0) # read 500 images from each category\n",
    "\n",
    "x_ = []\n",
    "y_ = []\n",
    "\n",
    "for feature, label in data:\n",
    "    x_.append(feature)\n",
    "    y_.append(label)\n",
    "    \n",
    "x_ = np.array(x_) / 255\n",
    "y_ = keras.utils.to_categorical(np.array(y_))\n",
    "    \n",
    "for img, real in zip(x_, y_):\n",
    "    img.resize(1, img_rows, img_cols, 3)\n",
    "    prediction, expected, correct = inference(model, img, real)\n",
    "    if not correct:\n",
    "        message = 'Model predicted \"{}\" but label is \"{}\"'.format(prediction, expected)\n",
    "        print(message)\n",
    "        plt.figure(figsize=(5,5))\n",
    "        tmp = img.copy()[0]\n",
    "        plt.imshow(tmp)\n",
    "        plt.title(message)"
   ]
  },
  {
   "cell_type": "markdown",
   "metadata": {},
   "source": [
    "# Save Model"
   ]
  },
  {
   "cell_type": "code",
   "execution_count": null,
   "metadata": {},
   "outputs": [],
   "source": [
    "model.save('./path-classifier.h5')"
   ]
  }
 ],
 "metadata": {
  "kernelspec": {
   "display_name": "Python 3",
   "language": "python",
   "name": "python3"
  },
  "language_info": {
   "codemirror_mode": {
    "name": "ipython",
    "version": 3
   },
   "file_extension": ".py",
   "mimetype": "text/x-python",
   "name": "python",
   "nbconvert_exporter": "python",
   "pygments_lexer": "ipython3",
   "version": "3.6.9"
  }
 },
 "nbformat": 4,
 "nbformat_minor": 4
}
